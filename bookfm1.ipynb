{
 "cells": [
  {
   "cell_type": "markdown",
   "id": "7dc4e4c4",
   "metadata": {
    "papermill": {
     "duration": 0.001869,
     "end_time": "2024-03-14T18:03:11.892463",
     "exception": false,
     "start_time": "2024-03-14T18:03:11.890594",
     "status": "completed"
    },
    "tags": []
   },
   "source": [
    "# FinMath \n",
    "\n",
    "<img src=\"https://i.postimg.cc/gjZdRgyZ/image.pnghttps://i.postimg.cc/gjZdRgyZ/image.png\" width=100px>\n",
    "\n",
    "> Important math related testing. Related to UJS and wIII schtuffs "
   ]
  },
  {
   "cell_type": "markdown",
   "id": "0df0b6d5",
   "metadata": {
    "papermill": {
     "duration": 0.00109,
     "end_time": "2024-03-14T18:03:11.895029",
     "exception": false,
     "start_time": "2024-03-14T18:03:11.893939",
     "status": "completed"
    },
    "tags": []
   },
   "source": [
    "## PinkSmellyPussy\n",
    "\n",
    "> SNIFFFFFFFFF"
   ]
  },
  {
   "cell_type": "code",
   "execution_count": 1,
   "id": "06f9e2ce",
   "metadata": {
    "_cell_guid": "b1076dfc-b9ad-4769-8c92-a6c4dae69d19",
    "_uuid": "8f2839f25d086af736a60e9eeb907d3b93b6e0e5",
    "execution": {
     "iopub.execute_input": "2024-03-14T18:03:11.899227Z",
     "iopub.status.busy": "2024-03-14T18:03:11.898890Z",
     "iopub.status.idle": "2024-03-14T18:03:12.001554Z",
     "shell.execute_reply": "2024-03-14T18:03:12.000169Z"
    },
    "papermill": {
     "duration": 0.107403,
     "end_time": "2024-03-14T18:03:12.003692",
     "exception": false,
     "start_time": "2024-03-14T18:03:11.896289",
     "status": "completed"
    },
    "tags": []
   },
   "outputs": [],
   "source": [
    "# Prettification\n",
    "# ------------------------------------------------------\n",
    "from rich import print as rprint # For rprinting\n",
    "from rich.pretty import pprint # For pretty printing\n",
    "from rich import inspect # For inspect\n",
    "from rich.console import Console # For console.print\n",
    "from rich.markdown import Markdown # For markdown\n",
    "from rich.panel import Panel # For Panel()\n",
    "from rich import box # For Panel Boxes\n",
    "from rich.prompt import Prompt # For Prompting \n",
    "console = Console() # Standard code to access console\n",
    "# -------------------------------------------------------\n"
   ]
  }
 ],
 "metadata": {
  "kaggle": {
   "accelerator": "none",
   "dataSources": [],
   "dockerImageVersionId": 30664,
   "isGpuEnabled": false,
   "isInternetEnabled": true,
   "language": "python",
   "sourceType": "notebook"
  },
  "kernelspec": {
   "display_name": "Python 3",
   "language": "python",
   "name": "python3"
  },
  "language_info": {
   "codemirror_mode": {
    "name": "ipython",
    "version": 3
   },
   "file_extension": ".py",
   "mimetype": "text/x-python",
   "name": "python",
   "nbconvert_exporter": "python",
   "pygments_lexer": "ipython3",
   "version": "3.10.13"
  },
  "papermill": {
   "default_parameters": {},
   "duration": 2.871866,
   "end_time": "2024-03-14T18:03:12.323849",
   "environment_variables": {},
   "exception": null,
   "input_path": "__notebook__.ipynb",
   "output_path": "__notebook__.ipynb",
   "parameters": {},
   "start_time": "2024-03-14T18:03:09.451983",
   "version": "2.5.0"
  }
 },
 "nbformat": 4,
 "nbformat_minor": 5
}
